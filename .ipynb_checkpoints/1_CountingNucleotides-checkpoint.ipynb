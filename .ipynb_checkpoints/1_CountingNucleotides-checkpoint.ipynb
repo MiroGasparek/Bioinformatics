{
 "cells": [
  {
   "cell_type": "markdown",
   "metadata": {},
   "source": [
    "# Counting DNA Nucleotides\n",
    "*(Problem from Rosalind.info)*\n",
    "\n",
    "**Problem**\n",
    "A string is simply an ordered collection of symbols selected from some alphabet and formed into a word; the length of a string is the number of symbols that it contains.\n",
    "\n",
    "An example of a length 21 DNA string (whose alphabet contains the symbols 'A', 'C', 'G', and 'T') is \"ATGCTTCAGAAAGGTCTTACG.\"\n",
    "\n",
    "**Given:** A DNA string *s* of length at most 1000 nt.\n",
    "\n",
    "**Return:** Four integers (separated by spaces) counting the respective number of times that the symbols 'A', 'C', 'G', and 'T' occur in s."
   ]
  },
  {
   "cell_type": "code",
   "execution_count": 8,
   "metadata": {},
   "outputs": [],
   "source": [
    "# Solution\n",
    "def nucl_count(seq):\n",
    "    \"\"\"Counts the nucleotides in a string representing a DNA sequence.\n",
    "    -------\n",
    "    Inputs: \n",
    "    - seq(String): Sequence of nucleotides.\n",
    "    ------\n",
    "    Outputs:\n",
    "    - bases_counts(list): Number of each of the nucleotides in the string\n",
    "    \"\"\"\n",
    "    \n",
    "    # Convert the nucleotides to the uppercase letters\n",
    "    seq = seq.upper()\n",
    "    \n",
    "    # Initialize counters\n",
    "    count_A = 0\n",
    "    count_C = 0\n",
    "    count_G = 0\n",
    "    count_T = 0\n",
    "    \n",
    "    # Initialize the empty output\n",
    "    bases_counts = list()\n",
    "    \n",
    "    \n",
    "    # Loop over the input strings\n",
    "    for index in range(len(seq)):\n",
    "        if seq[index] == 'A':\n",
    "            count_A += 1\n",
    "            \n",
    "        elif seq[index] == 'C':\n",
    "            count_C += 1\n",
    "        \n",
    "        elif seq[index] == 'G':\n",
    "            count_G += 1\n",
    "        \n",
    "        elif seq[index] == 'T':\n",
    "            count_T += 1\n",
    "    \n",
    "    # Store counts in the list\n",
    "    bases_counts = [count_A, count_C, count_G, count_T]\n",
    "    \n",
    "    return bases_counts"
   ]
  },
  {
   "cell_type": "code",
   "execution_count": 10,
   "metadata": {},
   "outputs": [
    {
     "data": {
      "text/plain": [
       "[20, 12, 17, 21]"
      ]
     },
     "execution_count": 10,
     "metadata": {},
     "output_type": "execute_result"
    }
   ],
   "source": [
    "# Test the function\n",
    "seq = \"AGCTTTTCATTCTGACTGCAACGGGCAATATGTCTCTGTGTGGATTAAAAAAAGAGTGTCTGATAGCAGC\"\n",
    "counts = nucl_count(seq)\n",
    "\n",
    "counts"
   ]
  },
  {
   "cell_type": "code",
   "execution_count": null,
   "metadata": {},
   "outputs": [],
   "source": []
  }
 ],
 "metadata": {
  "kernelspec": {
   "display_name": "Python 3",
   "language": "python",
   "name": "python3"
  },
  "language_info": {
   "codemirror_mode": {
    "name": "ipython",
    "version": 3
   },
   "file_extension": ".py",
   "mimetype": "text/x-python",
   "name": "python",
   "nbconvert_exporter": "python",
   "pygments_lexer": "ipython3",
   "version": "3.6.6"
  }
 },
 "nbformat": 4,
 "nbformat_minor": 2
}
